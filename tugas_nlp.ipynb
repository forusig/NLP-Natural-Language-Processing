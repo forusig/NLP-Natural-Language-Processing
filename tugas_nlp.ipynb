{
  "nbformat": 4,
  "nbformat_minor": 0,
  "metadata": {
    "colab": {
      "provenance": []
    },
    "kernelspec": {
      "name": "python3",
      "display_name": "Python 3"
    },
    "language_info": {
      "name": "python"
    }
  },
  "cells": [
    {
      "cell_type": "code",
      "execution_count": 1,
      "metadata": {
        "colab": {
          "base_uri": "https://localhost:8080/"
        },
        "id": "rDgO-Fy9mrBQ",
        "outputId": "550d09e0-8b9d-4c20-a95c-fe4c2ebc99c2"
      },
      "outputs": [
        {
          "output_type": "stream",
          "name": "stderr",
          "text": [
            "[nltk_data] Downloading package punkt to /root/nltk_data...\n",
            "[nltk_data]   Unzipping tokenizers/punkt.zip.\n",
            "[nltk_data] Downloading package stopwords to /root/nltk_data...\n",
            "[nltk_data]   Unzipping corpora/stopwords.zip.\n"
          ]
        },
        {
          "output_type": "execute_result",
          "data": {
            "text/plain": [
              "True"
            ]
          },
          "metadata": {},
          "execution_count": 1
        }
      ],
      "source": [
        "import nltk\n",
        "nltk.download('punkt')  # Untuk tokenisasi\n",
        "nltk.download('stopwords')  # Untuk stopwords (kata umum yang tidak relevan)\n"
      ]
    },
    {
      "cell_type": "code",
      "source": [
        "import nltk\n",
        "from nltk.corpus import stopwords\n",
        "from nltk.tokenize import word_tokenize\n",
        "from nltk.stem import PorterStemmer\n",
        "# Inisialisasi stemmer\n",
        "stemmer = PorterStemmer()"
      ],
      "metadata": {
        "id": "nBMJis6Kq7SN"
      },
      "execution_count": 2,
      "outputs": []
    },
    {
      "cell_type": "code",
      "source": [
        "# Informasi tentang Universitas P B\n",
        "info =  \"\"\"\n",
        "Universitas Pelita Bangsa, yang terletak di Cikarang, Bekasi, adalah salah satu universitas swasta yang terus\n",
        "berkembang pesat di Indonesia!Kampus ini menawarkan berbagai program studi, mulai dari Teknik Informatika, Manajemen,\n",
        "hingga Ilmu Hukum, yang semuanya dirancang untuk membekali mahasiswa dengan keterampilan yang relevan di dunia kerja.\n",
        "\"\"\"\n",
        "alamat = \"Universitas Pelita Bangsa terletak di Cikarang, Bekasi.\"\n",
        "program = \"Program studi yang ditawarkan di Universitas Pelita Bangsa antara lain: Teknik Informatika, Manajemen, Ilmu Hukum.\"\n",
        "keuntungan = \"\"\"Universitas Pelita Bangsa memiliki banyak keunggulan, termasuk akses mudah ke berbagai perusahaan besar untuk\n",
        "keperluan magang dan kerja sama industri! Visi kampus ini adalah mencetak lulusan yang berdaya saing tinggi melalui pengajaran\n",
        "yang berkualitas dan fasilitas modern, yang didukung oleh dosen-dosen berpengalaman.\"\"\""
      ],
      "metadata": {
        "id": "U0DG1c87rCHK"
      },
      "execution_count": 3,
      "outputs": []
    },
    {
      "cell_type": "code",
      "source": [
        "# Fungsi untuk memproses pertanyaan user\n",
        "def process_user_input(user_input):\n",
        "    # Tokenisasi kata\n",
        "    words = word_tokenize(user_input.lower())\n",
        "\n",
        "    # Menghapus stopwords\n",
        "    stop_words = set(stopwords.words('indonesian'))\n",
        "    filtered_words = [word for word in words if word not in stop_words]\n",
        "\n",
        "    # Stemming\n",
        "    stemmed_words = [stemmer.stem(word) for word in filtered_words]\n",
        "\n",
        "    # Cek pertanyaan\n",
        "    if any(keyword in stemmed_words for keyword in [\"cerita\", \"tentang\", \"apa\", \"informasi\"]):\n",
        "        return info\n",
        "    elif any(keyword in stemmed_words for keyword in [\"alamat\", \"dimana\"]):\n",
        "        return alamat\n",
        "    elif any(keyword in stemmed_words for keyword in [\"program\", \"studi\", \"apa\", \"saja\"]):\n",
        "        return program\n",
        "    elif any(keyword in stemmed_words for keyword in [\"keuntungan\", \"apa\"]):\n",
        "        return keuntungan\n",
        "    else:\n",
        "        return \"Maaf, saya tidak punya informasi tentang itu.\""
      ],
      "metadata": {
        "id": "FAH0pOCFrE3a"
      },
      "execution_count": 9,
      "outputs": []
    },
    {
      "cell_type": "code",
      "source": [
        "# Fungsi utama untuk menjalankan program\n",
        "print(\"Selamat datang di Universitas Pelita Bangsa!\")\n",
        "def main():\n",
        "    while True:\n",
        "        # Input dari user menggunakan fungsi input()\n",
        "        user_input = input(\"Silakan masukkan pertanyaan: \")\n",
        "\n",
        "        # Cek jika user mengucapkan terima kasih\n",
        "        if \"terima kasih\" in user_input.lower() or \"sudah cukup\" in user_input.lower():\n",
        "            print(\"Terima kasih telah bertanya! Semoga informasi ini bermanfaat.\")\n",
        "            break  # Keluar dari loop jika user mengucapkan terima kasih\n",
        "\n",
        "        # Proses input user\n",
        "        result = process_user_input(user_input)\n",
        "\n",
        "        # Output hasil\n",
        "        print(result)\n",
        "\n",
        "# Menjalankan fungsi utama\n",
        "main()"
      ],
      "metadata": {
        "colab": {
          "base_uri": "https://localhost:8080/"
        },
        "id": "5pa_Yc1krH0-",
        "outputId": "4a75bfca-143e-4070-95dc-de96a2fcbe80"
      },
      "execution_count": 10,
      "outputs": [
        {
          "output_type": "stream",
          "name": "stdout",
          "text": [
            "Selamat datang di Universitas Pelita Bangsa!\n",
            "Silakan masukkan pertanyaan: berikan informasi tentang upb!\n",
            "\n",
            "Universitas Pelita Bangsa, yang terletak di Cikarang, Bekasi, adalah salah satu universitas swasta yang terus \n",
            "berkembang pesat di Indonesia!Kampus ini menawarkan berbagai program studi, mulai dari Teknik Informatika, Manajemen, \n",
            "hingga Ilmu Hukum, yang semuanya dirancang untuk membekali mahasiswa dengan keterampilan yang relevan di dunia kerja.\n",
            "\n",
            "Silakan masukkan pertanyaan: ada program studi apa saja di upb?\n",
            "Program studi yang ditawarkan di Universitas Pelita Bangsa antara lain: Teknik Informatika, Manajemen, Ilmu Hukum.\n",
            "Silakan masukkan pertanyaan: Dimana letak alamatnya?\n",
            "Universitas Pelita Bangsa terletak di Cikarang, Bekasi.\n",
            "Silakan masukkan pertanyaan: ada keuntungan apa saja?\n",
            "Universitas Pelita Bangsa memiliki banyak keunggulan, termasuk akses mudah ke berbagai perusahaan besar untuk \n",
            "keperluan magang dan kerja sama industri! Visi kampus ini adalah mencetak lulusan yang berdaya saing tinggi melalui pengajaran \n",
            "yang berkualitas dan fasilitas modern, yang didukung oleh dosen-dosen berpengalaman.\n",
            "Silakan masukkan pertanyaan: Terima kasih\n",
            "Terima kasih telah bertanya! Semoga informasi ini bermanfaat.\n"
          ]
        }
      ]
    }
  ]
}